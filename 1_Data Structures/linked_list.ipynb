{
 "cells": [
  {
   "cell_type": "code",
   "execution_count": 1,
   "metadata": {},
   "outputs": [],
   "source": []
  },
  {
   "cell_type": "markdown",
   "metadata": {},
   "source": [
    "## Linked List"
   ]
  },
  {
   "cell_type": "code",
   "execution_count": null,
   "metadata": {},
   "outputs": [],
   "source": [
    "##  Single LL  \n",
    " \n",
    "\n",
    "## item ( value , next-item-address)\n",
    "\n",
    "\n",
    "##  Double LL \n",
    "\n",
    "## item (previous-item-address,  value , next-item-address)\n",
    "\n",
    "##  Circular LL\n",
    "\n",
    "## item (previous-item-address,  value , next-item-address)"
   ]
  },
  {
   "cell_type": "markdown",
   "metadata": {},
   "source": [
    "## Single LL"
   ]
  },
  {
   "cell_type": "code",
   "execution_count": 2,
   "metadata": {},
   "outputs": [],
   "source": [
    "class Node():\n",
    "    def __init__(self, value) -> None:\n",
    "        self.value = value\n",
    "        self.next_node = None"
   ]
  },
  {
   "cell_type": "code",
   "execution_count": 24,
   "metadata": {},
   "outputs": [],
   "source": [
    "class Single_Linked_List():\n",
    "    def __init__(self) -> None:\n",
    "        self.head = None\n",
    "\n",
    "    def insert_end(self, value):\n",
    "\n",
    "        node =  Node(value)\n",
    "\n",
    "        if  self.head :\n",
    "            \n",
    "            lastNode = self.head\n",
    "\n",
    "            while lastNode.next_node :\n",
    "                \n",
    "                lastNode = lastNode.next_node\n",
    "                \n",
    "            lastNode.next_node = node\n",
    "        else: \n",
    "            \n",
    "            self.head = node\n",
    "    def print_linkedlist(self):\n",
    "        if  self.head :\n",
    "            \n",
    "            lastNode = self.head\n",
    "            \n",
    "            while lastNode :\n",
    "                print('node' , lastNode.value)\n",
    "                lastNode = lastNode.next_node\n",
    "            \n",
    "            "
   ]
  },
  {
   "cell_type": "code",
   "execution_count": 25,
   "metadata": {},
   "outputs": [],
   "source": [
    "myll = Single_Linked_List()\n",
    "for i in range(10):\n",
    "    myll.insert_end(i)"
   ]
  },
  {
   "cell_type": "code",
   "execution_count": 26,
   "metadata": {},
   "outputs": [
    {
     "name": "stdout",
     "output_type": "stream",
     "text": [
      "node 0\n",
      "node 1\n",
      "node 2\n",
      "node 3\n",
      "node 4\n",
      "node 5\n",
      "node 6\n",
      "node 7\n",
      "node 8\n",
      "node 9\n"
     ]
    }
   ],
   "source": [
    "myll.print_linkedlist()"
   ]
  },
  {
   "cell_type": "code",
   "execution_count": null,
   "metadata": {},
   "outputs": [],
   "source": []
  }
 ],
 "metadata": {
  "kernelspec": {
   "display_name": "tensorflow",
   "language": "python",
   "name": "python3"
  },
  "language_info": {
   "codemirror_mode": {
    "name": "ipython",
    "version": 3
   },
   "file_extension": ".py",
   "mimetype": "text/x-python",
   "name": "python",
   "nbconvert_exporter": "python",
   "pygments_lexer": "ipython3",
   "version": "3.10.13"
  }
 },
 "nbformat": 4,
 "nbformat_minor": 2
}
