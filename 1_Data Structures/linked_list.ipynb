{
 "cells": [
  {
   "cell_type": "code",
   "execution_count": 1,
   "metadata": {},
   "outputs": [],
   "source": []
  },
  {
   "cell_type": "markdown",
   "metadata": {},
   "source": [
    "## Linked List"
   ]
  },
  {
   "cell_type": "code",
   "execution_count": null,
   "metadata": {},
   "outputs": [],
   "source": [
    "##  Single LL  \n",
    " \n",
    "\n",
    "## item ( value , next-item-address)\n",
    "\n",
    "\n",
    "##  Double LL \n",
    "\n",
    "## item (previous-item-address,  value , next-item-address)\n",
    "\n",
    "##  Circular LL\n",
    "\n",
    "## item (previous-item-address,  value , next-item-address)"
   ]
  },
  {
   "cell_type": "markdown",
   "metadata": {},
   "source": [
    "## Single LL"
   ]
  },
  {
   "cell_type": "code",
   "execution_count": 2,
   "metadata": {},
   "outputs": [],
   "source": [
    "class Node():\n",
    "    def __init__(self, value) -> None:\n",
    "        self.value = value\n",
    "        self.next_node = None"
   ]
  },
  {
   "cell_type": "code",
   "execution_count": 52,
   "metadata": {},
   "outputs": [],
   "source": [
    "class Single_Linked_List():\n",
    "    def __init__(self) -> None:\n",
    "        self.head = None\n",
    "\n",
    "    def insert_start(self,value):\n",
    "        node =  Node(value)\n",
    "\n",
    "        if self.head :\n",
    "            node.next_node = self.head\n",
    "            self.head = node\n",
    "        else:\n",
    "            self.head = node\n",
    "    \n",
    "\n",
    "    def insert_end(self, value):\n",
    "        node =  Node(value)\n",
    "        if  self.head : \n",
    "            lastNode = self.head\n",
    "\n",
    "            while lastNode.next_node :\n",
    "                \n",
    "                lastNode = lastNode.next_node\n",
    "\n",
    "            lastNode.next_node = node\n",
    "        else: \n",
    "            \n",
    "            self.head = node\n",
    "\n",
    "\n",
    "\n",
    "    def delete_from_start(self):\n",
    "        if self.head :\n",
    "            self.head = self.head.next_node\n",
    "    \n",
    "    def delete_from_end(self):\n",
    "        \n",
    "        secondLast = self.head\n",
    "        if secondLast:\n",
    "            lastNode = secondLast.next_node\n",
    "            while lastNode :\n",
    "                if lastNode.next_node:\n",
    "                    secondLast = lastNode\n",
    "                    lastNode = lastNode.next_node\n",
    "                else:\n",
    "                    lastNode = lastNode.next_node\n",
    "\n",
    "            secondLast.next_node = None \n",
    "        \n",
    "        \n",
    "    def print_linkedlist(self):\n",
    "        if  self.head :\n",
    "            \n",
    "            lastNode = self.head\n",
    "            \n",
    "            while lastNode :\n",
    "                print('node' , lastNode.value)\n",
    "                lastNode = lastNode.next_node\n",
    "\n",
    "   \n",
    "            \n",
    "            "
   ]
  },
  {
   "cell_type": "code",
   "execution_count": 53,
   "metadata": {},
   "outputs": [],
   "source": [
    "myll = Single_Linked_List()\n",
    "for i in range(10):\n",
    "    myll.insert_end(i)"
   ]
  },
  {
   "cell_type": "code",
   "execution_count": 54,
   "metadata": {},
   "outputs": [
    {
     "name": "stdout",
     "output_type": "stream",
     "text": [
      "node 0\n",
      "node 1\n",
      "node 2\n",
      "node 3\n",
      "node 4\n",
      "node 5\n",
      "node 6\n",
      "node 7\n",
      "node 8\n",
      "node 9\n"
     ]
    }
   ],
   "source": [
    "myll.print_linkedlist()"
   ]
  },
  {
   "cell_type": "code",
   "execution_count": 55,
   "metadata": {},
   "outputs": [
    {
     "ename": "KeyboardInterrupt",
     "evalue": "",
     "output_type": "error",
     "traceback": [
      "\u001b[0;31m---------------------------------------------------------------------------\u001b[0m",
      "\u001b[0;31mKeyboardInterrupt\u001b[0m                         Traceback (most recent call last)",
      "Cell \u001b[0;32mIn[55], line 1\u001b[0m\n\u001b[0;32m----> 1\u001b[0m \u001b[43mmyll\u001b[49m\u001b[38;5;241;43m.\u001b[39;49m\u001b[43mdelete_from_end\u001b[49m\u001b[43m(\u001b[49m\u001b[43m)\u001b[49m\n",
      "Cell \u001b[0;32mIn[52], line 41\u001b[0m, in \u001b[0;36mSingle_Linked_List.delete_from_end\u001b[0;34m(self)\u001b[0m\n\u001b[1;32m     39\u001b[0m \u001b[38;5;28;01mif\u001b[39;00m secondLast:\n\u001b[1;32m     40\u001b[0m     lastNode \u001b[38;5;241m=\u001b[39m secondLast\u001b[38;5;241m.\u001b[39mnext_node\n\u001b[0;32m---> 41\u001b[0m     \u001b[38;5;28;01mwhile\u001b[39;00m lastNode :\n\u001b[1;32m     42\u001b[0m         \u001b[38;5;28;01mif\u001b[39;00m lastNode\u001b[38;5;241m.\u001b[39mnext_node:\n\u001b[1;32m     43\u001b[0m             secondLast \u001b[38;5;241m=\u001b[39m lastNode\n",
      "\u001b[0;31mKeyboardInterrupt\u001b[0m: "
     ]
    }
   ],
   "source": [
    "myll.delete_from_end()"
   ]
  },
  {
   "cell_type": "code",
   "execution_count": 39,
   "metadata": {},
   "outputs": [],
   "source": [
    "myll.insert_start(12)"
   ]
  },
  {
   "cell_type": "code",
   "execution_count": null,
   "metadata": {},
   "outputs": [],
   "source": []
  }
 ],
 "metadata": {
  "kernelspec": {
   "display_name": "tensorflow",
   "language": "python",
   "name": "python3"
  },
  "language_info": {
   "codemirror_mode": {
    "name": "ipython",
    "version": 3
   },
   "file_extension": ".py",
   "mimetype": "text/x-python",
   "name": "python",
   "nbconvert_exporter": "python",
   "pygments_lexer": "ipython3",
   "version": "3.10.13"
  }
 },
 "nbformat": 4,
 "nbformat_minor": 2
}
