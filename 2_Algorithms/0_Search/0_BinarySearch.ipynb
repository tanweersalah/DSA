{
 "cells": [
  {
   "cell_type": "markdown",
   "metadata": {},
   "source": [
    "## Linear Search"
   ]
  },
  {
   "cell_type": "code",
   "execution_count": 1,
   "metadata": {},
   "outputs": [],
   "source": [
    "def searchInArray(array , value):\n",
    "    for ind , val in enumerate(array):\n",
    "        if value == val :\n",
    "            return ind\n",
    "    return -1"
   ]
  },
  {
   "cell_type": "code",
   "execution_count": 2,
   "metadata": {},
   "outputs": [
    {
     "data": {
      "text/plain": [
       "4"
      ]
     },
     "execution_count": 2,
     "metadata": {},
     "output_type": "execute_result"
    }
   ],
   "source": [
    "searchInArray([2,3,4,5,61,22,33,44], 61)"
   ]
  },
  {
   "cell_type": "markdown",
   "metadata": {},
   "source": [
    "## Binary Search\n"
   ]
  },
  {
   "cell_type": "markdown",
   "metadata": {},
   "source": [
    "\n",
    "\n",
    "#### Overview\n",
    "Binary search is a highly efficient algorithm used to find an element in a sorted array or list. It works by repeatedly dividing the search interval in half and comparing the target value to the middle element of the current interval. If the target value is equal to the middle element, the search is complete. If the target value is less than the middle element, the search continues on the lower half of the interval, and if it is greater, the search continues on the upper half.\n",
    "\n",
    "#### Key Characteristics\n",
    "\n",
    "1. **Prerequisite**: The array or list must be sorted.\n",
    "2. **Divide and Conquer**: It utilizes a divide-and-conquer approach to reduce the search space by half in each step.\n",
    "3. **Efficiency**: It significantly reduces the number of comparisons needed to find the target element compared to linear search.\n",
    "\n",
    "#### Steps\n",
    "\n",
    "1. **Initialization**: Start with two pointers, typically named `low` and `high`, which initially point to the first and last index of the array, respectively.\n",
    "2. **Midpoint Calculation**: Calculate the midpoint index as the average of `low` and `high`.\n",
    "3. **Comparison**:\n",
    "   - If the target is equal to the middle element, return the index of the middle element.\n",
    "   - If the target is less than the middle element, move the `high` pointer to `mid - 1` to search in the left half.\n",
    "   - If the target is greater than the middle element, move the `low` pointer to `mid + 1` to search in the right half.\n",
    "4. **Repeat**: Continue the process until the `low` pointer exceeds the `high` pointer, indicating that the target element is not in the array.\n",
    "\n",
    "#### Time Complexity\n",
    "\n",
    "- **Best Case**: \\( O(1) \\) - The target element is found at the first midpoint.\n",
    "- **Average and Worst Case**: \\( O(\\log n) \\) - The search space is halved with each step, leading to logarithmic time complexity.\n",
    "\n",
    "#### Space Complexity\n",
    "\n",
    "- **Iterative Version**: \\( O(1) \\) - Only a few extra variables are used.\n",
    "- **Recursive Version**: \\( O(\\log n) \\) - Due to the stack space used by recursive calls.\n",
    "\n",
    "#### Applications\n",
    "\n",
    "- **Efficient Searching**: Ideal for searching in large sorted datasets.\n",
    "- **Data Structures**: Used in various data structures like binary search trees.\n",
    "- **Algorithm Optimization**: Improves the efficiency of other algorithms that require frequent lookups in sorted arrays.\n",
    "\n",
    "#### Advantages\n",
    "\n",
    "- **Efficiency**: Much faster than linear search for large datasets.\n",
    "- **Simplicity**: Easy to understand and implement.\n",
    "\n",
    "#### Limitations\n",
    "\n",
    "- **Pre-Sorting Requirement**: The dataset must be sorted, which might require additional preprocessing time.\n",
    "- **Not Suitable for Unsorted Arrays**: Inapplicable if the data is not sorted or if sorting the data is not feasible.\n",
    "\n",
    "Binary search is a fundamental algorithm in computer science, widely used due to its efficiency and simplicity in searching sorted data."
   ]
  },
  {
   "cell_type": "code",
   "execution_count": 19,
   "metadata": {},
   "outputs": [
    {
     "data": {
      "text/plain": [
       "5"
      ]
     },
     "execution_count": 19,
     "metadata": {},
     "output_type": "execute_result"
    }
   ],
   "source": [
    "def binarySearch(array, value):\n",
    "    low = 0\n",
    "    high = len(array) -1 \n",
    "    \n",
    "    \n",
    "    while ( low <= high) :\n",
    "        mid = (low + high)//2\n",
    "        if array[mid] == value :\n",
    "            return mid\n",
    "        elif array[mid] < value :\n",
    "            low = mid +1\n",
    "        else :\n",
    "            high = mid -1\n",
    "    return -1\n",
    "\n",
    "\n",
    "\n"
   ]
  },
  {
   "cell_type": "code",
   "execution_count": 20,
   "metadata": {},
   "outputs": [
    {
     "data": {
      "text/plain": [
       "5"
      ]
     },
     "execution_count": 20,
     "metadata": {},
     "output_type": "execute_result"
    }
   ],
   "source": [
    "binarySearch([2,3,4,5,6,22,33,44], 22)"
   ]
  },
  {
   "cell_type": "code",
   "execution_count": null,
   "metadata": {},
   "outputs": [],
   "source": []
  }
 ],
 "metadata": {
  "kernelspec": {
   "display_name": "tensorflow",
   "language": "python",
   "name": "python3"
  },
  "language_info": {
   "codemirror_mode": {
    "name": "ipython",
    "version": 3
   },
   "file_extension": ".py",
   "mimetype": "text/x-python",
   "name": "python",
   "nbconvert_exporter": "python",
   "pygments_lexer": "ipython3",
   "version": "3.10.13"
  }
 },
 "nbformat": 4,
 "nbformat_minor": 2
}
