{
 "cells": [
  {
   "cell_type": "markdown",
   "metadata": {},
   "source": [
    "### Bubble Sort Overview\n",
    "\n",
    "Bubble sort is a simple comparison-based sorting algorithm that repeatedly steps through the list, compares adjacent elements, and swaps them if they are in the wrong order. This process is repeated until the list is sorted. The algorithm gets its name because smaller elements \"bubble\" to the top of the list.\n",
    "\n",
    "### Steps for Bubble Sort\n",
    "\n",
    "1. **Start from the beginning of the list:** Compare the first two elements.\n",
    "2. **Swap if needed:** If the first element is greater than the second, swap them.\n",
    "3. **Move to the next pair:** Continue comparing and swapping adjacent elements until the end of the list is reached.\n",
    "4. **Repeat the process:** Start again from the beginning, excluding the last sorted elements, and repeat until no swaps are needed.\n",
    "\n",
    "### Methods to Implement for Bubble Sort\n",
    "\n",
    "#### Method: `bubble_sort`\n",
    "\n",
    "- **Input:**\n",
    "  - `arr` (list): The list of elements to be sorted.\n",
    "  \n",
    "- **Output:**\n",
    "  - The method sorts the list in place. It does not return a new list, but rather modifies the input list directly.\n",
    "\n",
    "#### Method: `swap`\n",
    "\n",
    "- **Input:**\n",
    "  - `arr` (list): The list of elements.\n",
    "  - `i` (int): The index of the first element to swap.\n",
    "  - `j` (int): The index of the second element to swap.\n",
    "\n",
    "- **Output:**\n",
    "  - No return value. The method modifies the list in place.\n",
    "\n",
    "### Complexity Analysis\n",
    "\n",
    "- **Time Complexity:**\n",
    "  - **Best Case:** \\( O(n) \\) - This occurs when the list is already sorted. Bubble sort can detect this by checking if no swaps are made during a pass.\n",
    "  - **Average Case:** \\( O(n^2) \\) - The number of comparisons and swaps remains proportional to the square of the number of elements.\n",
    "  - **Worst Case:** \\( O(n^2) \\) - The maximum number of comparisons and swaps will be performed.\n",
    "\n",
    "- **Space Complexity:**\n",
    "  - \\( O(1) \\) - Bubble sort is an in-place sorting algorithm, which means it requires a constant amount of additional memory space.\n",
    "\n",
    "### Summary\n",
    "\n",
    "- **Algorithm Type:** Comparison-based, in-place sorting.\n",
    "- **Best for:** Small to medium-sized lists where simplicity is preferred over efficiency.\n",
    "- **Limitations:** Inefficient for large lists due to quadratic time complexity.\n",
    "\n",
    "### Methods Summary\n",
    "\n",
    "#### `bubble_sort`\n",
    "- **Input:**\n",
    "  - `arr` (list): The list of elements to be sorted.\n",
    "- **Output:**\n",
    "  - No return value. The method sorts the list in place.\n",
    "- **Time Complexity:**\n",
    "  - Best Case: \\( O(n) \\)\n",
    "  - Average Case: \\( O(n^2) \\)\n",
    "  - Worst Case: \\( O(n^2) \\)\n",
    "- **Space Complexity:**\n",
    "  - \\( O(1) \\)\n",
    "\n",
    "#### `swap`\n",
    "- **Input:**\n",
    "  - `arr` (list): The list of elements.\n",
    "  - `i` (int): The index of the first element to swap.\n",
    "  - `j` (int): The index of the second element to swap.\n",
    "- **Output:**\n",
    "  - No return value. The method modifies the list in place.\n",
    "- **Time Complexity:**\n",
    "  - \\( O(1) \\)\n",
    "\n"
   ]
  },
  {
   "cell_type": "code",
   "execution_count": 3,
   "metadata": {},
   "outputs": [],
   "source": [
    "def swap(arr, i ,j) : \n",
    "    arr[i], arr[j] = arr[j], arr[i]\n",
    "\n",
    "def bubble_sort(arr):\n",
    "    for _ in  range(len(arr)):\n",
    "        swapped = False\n",
    "        for index in  range(len(arr)-1):\n",
    "            if arr[index] > arr[index+1]:\n",
    "                swap(arr, index, index+1)\n",
    "                swapped = True\n",
    "        if not swapped :\n",
    "            break\n",
    "    "
   ]
  },
  {
   "cell_type": "code",
   "execution_count": 4,
   "metadata": {},
   "outputs": [
    {
     "name": "stdout",
     "output_type": "stream",
     "text": [
      "[1, 3, 5, 6, 7, 9, 10, 14, 18, 19, 21, 23, 25, 29, 32, 34, 37, 45, 48, 62]\n"
     ]
    }
   ],
   "source": [
    "my_list = [34,7,23,32,5,62,14,25,19,3,45,1,18,29,10,37,21,48,9,6]\n",
    "\n",
    "bubble_sort(my_list)\n",
    "\n",
    "print(my_list)"
   ]
  },
  {
   "cell_type": "code",
   "execution_count": null,
   "metadata": {},
   "outputs": [],
   "source": []
  }
 ],
 "metadata": {
  "kernelspec": {
   "display_name": "tensorflow",
   "language": "python",
   "name": "python3"
  },
  "language_info": {
   "codemirror_mode": {
    "name": "ipython",
    "version": 3
   },
   "file_extension": ".py",
   "mimetype": "text/x-python",
   "name": "python",
   "nbconvert_exporter": "python",
   "pygments_lexer": "ipython3",
   "version": "3.10.13"
  }
 },
 "nbformat": 4,
 "nbformat_minor": 2
}
