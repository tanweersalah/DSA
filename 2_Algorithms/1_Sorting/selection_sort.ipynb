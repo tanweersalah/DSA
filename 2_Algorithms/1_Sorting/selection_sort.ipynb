{
 "cells": [
  {
   "cell_type": "markdown",
   "metadata": {},
   "source": [
    "### Selection Sort Overview\n",
    "\n",
    "Selection sort is a simple comparison-based sorting algorithm. It works by repeatedly selecting the smallest (or largest, depending on the order) element from the unsorted portion of the list and swapping it with the first unsorted element. This process continues, moving the boundary between sorted and unsorted portions one element to the right until the entire list is sorted.\n",
    "\n",
    "### Steps for Selection Sort\n",
    "\n",
    "1. **Start from the first element:** Assume the first element is the smallest.\n",
    "2. **Compare with the rest:** Traverse the rest of the list to find the smallest element.\n",
    "3. **Swap if needed:** If a smaller element is found, swap it with the first element.\n",
    "4. **Move to the next element:** Repeat the process for the next position in the list.\n",
    "5. **Continue until the list is sorted:** The boundary between the sorted and unsorted portions of the list moves one position to the right with each iteration.\n",
    "\n",
    "\n",
    "\n"
   ]
  },
  {
   "cell_type": "markdown",
   "metadata": {},
   "source": [
    "### Methods for Selection Sort\n",
    "\n",
    "To implement selection sort, you typically need the following methods:\n",
    "\n",
    "#### 1. `find_minimum_index`\n",
    "\n",
    "- **Purpose:** Finds the index of the minimum element in a sublist.\n",
    "- **Input:**\n",
    "  - `arr` (list): The list of elements.\n",
    "  - `start` (int): The starting index of the sublist.\n",
    "- **Output:**\n",
    "  - Returns the index (int) of the minimum element in the sublist from `start` to the end of the list.\n",
    "- **Time Complexity:**\n",
    "  - \\( O(n - start) \\), where \\( n \\) is the length of the list and `start` is the starting index of the sublist.\n",
    "\n",
    "#### 2. `swap`\n",
    "\n",
    "- **Purpose:** Swaps two elements in a list.\n",
    "- **Input:**\n",
    "  - `arr` (list): The list of elements.\n",
    "  - `i` (int): The index of the first element to swap.\n",
    "  - `j` (int): The index of the second element to swap.\n",
    "- **Output:**\n",
    "  - No return value. The method modifies the list in place.\n",
    "- **Time Complexity:**\n",
    "  - \\( O(1) \\) - Swapping two elements is a constant time operation.\n",
    "\n",
    "#### 3. `selection_sort`\n",
    "\n",
    "- **Purpose:** Sorts the list using the selection sort algorithm.\n",
    "- **Input:**\n",
    "  - `arr` (list): The list of elements to be sorted.\n",
    "- **Output:**\n",
    "  - No return value. The method sorts the list in place.\n",
    "- **Time Complexity:**\n",
    "  - Best Case: \\( O(n^2) \\)\n",
    "  - Average Case: \\( O(n^2) \\)\n",
    "  - Worst Case: \\( O(n^2) \\)\n",
    "  - Here, \\( n \\) is the length of the list.\n",
    "- **Space Complexity:**\n",
    "  - \\( O(1) \\) - Selection sort is an in-place algorithm and requires constant additional space.\n",
    "\n",
    "### Summary of Complexity\n",
    "\n",
    "- **`find_minimum_index`:** \\( O(n - start) \\)\n",
    "- **`swap`:** \\( O(1) \\)\n",
    "- **`selection_sort`:** \n",
    "  - Time Complexity: \\( O(n^2) \\) for best, average, and worst cases.\n",
    "  - Space Complexity: \\( O(1) \\)"
   ]
  },
  {
   "cell_type": "code",
   "execution_count": 2,
   "metadata": {},
   "outputs": [],
   "source": [
    "def find_min_index(arr, start_index):\n",
    "    min_value = float('inf')\n",
    "    min_index = -1\n",
    "    for index , item in enumerate(arr[start_index:]):\n",
    "            if item < min_value :\n",
    "                min_value = item\n",
    "                min_index = index + start_index\n",
    "    return min_index\n",
    "   \n",
    "def swap(arr , i , j):\n",
    "     arr[i], arr[j] = arr[j], arr[i]\n",
    "     \n",
    "def selection_sort (arr):\n",
    "    \n",
    "    for index in range(len(arr)) :\n",
    "        min_index = find_min_index(arr, index)\n",
    "        swap(arr, index, min_index)\n",
    "    \n",
    "\n",
    "\n",
    "        "
   ]
  },
  {
   "cell_type": "code",
   "execution_count": 3,
   "metadata": {},
   "outputs": [
    {
     "name": "stdout",
     "output_type": "stream",
     "text": [
      "[1, 3, 5, 6, 7, 9, 10, 14, 18, 19, 21, 23, 25, 29, 32, 34, 37, 45, 48, 62]\n"
     ]
    }
   ],
   "source": [
    "my_list = [34,7,23,32,5,62,14,25,19,3,45,1,18,29,10,37,21,48,9,6]\n",
    "\n",
    "selection_sort(my_list)\n",
    "\n",
    "print(my_list)"
   ]
  },
  {
   "cell_type": "code",
   "execution_count": null,
   "metadata": {},
   "outputs": [],
   "source": []
  }
 ],
 "metadata": {
  "kernelspec": {
   "display_name": "tensorflow",
   "language": "python",
   "name": "python3"
  },
  "language_info": {
   "codemirror_mode": {
    "name": "ipython",
    "version": 3
   },
   "file_extension": ".py",
   "mimetype": "text/x-python",
   "name": "python",
   "nbconvert_exporter": "python",
   "pygments_lexer": "ipython3",
   "version": "3.10.13"
  }
 },
 "nbformat": 4,
 "nbformat_minor": 2
}
